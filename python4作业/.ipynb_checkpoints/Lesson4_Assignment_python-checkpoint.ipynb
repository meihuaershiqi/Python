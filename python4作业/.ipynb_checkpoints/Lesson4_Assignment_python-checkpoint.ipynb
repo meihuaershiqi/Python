{
 "cells": [
  {
   "cell_type": "markdown",
   "metadata": {},
   "source": [
    "![](https://img.kaikeba.com/web/kkb_index/img_index_logo.png)\n",
    "# 基础课第一部分（python）第四次作业  \n",
    "同学们～大家好！欢迎大家来到基础课python部分作业，本次作业有两个部分，理论部分 和 编程实践部分。\n",
    "## 理论部分\n",
    "### 1. python中可以使用`import`导入哪些对象？"
   ]
  },
  {
   "cell_type": "markdown",
   "metadata": {},
   "source": [
    "你的回答：\n",
    "- **module**: 任何后缀为`*.py`文件. 模块名称就是文件名称.\n",
    "- **built-in module**: python编译器内置的函数，没有对应的`.py`文件.\n",
    "- **package**: python3.3以上，任何文件夹都可以视为包（不再需要`__init__.py`作为包的标志）.\n",
    "- **object**: python中基本所有的东西都为对象: 函数，类，变量等."
   ]
  },
  {
   "cell_type": "markdown",
   "metadata": {},
   "source": [
    "### 2. 机器学习和函数/模块的思想有哪些异同？"
   ]
  },
  {
   "cell_type": "markdown",
   "metadata": {},
   "source": [
    "你的回答：\n",
    "-    我理解的机器学习和函数思想相同点在于都是由输入x通过某些特定的逻辑f(x)得到输出y的过程，而不同的地方在于函数的逻辑处理是经过开发人员严谨的分析处理和代码实现的，机器学习则是通过一些简单的已知的输入x和输出y，进而自己去完成中间的逻辑处理过程，最终使用自己完善好的逻辑去处理未知的输入x去得到正确的输出y。"
   ]
  },
  {
   "cell_type": "markdown",
   "metadata": {},
   "source": [
    "## 编程实践部分\n",
    "### 3. 安装 `numpy`, `matplotlib`,`sklearn`包, 并测试是否安装完成  \n",
    "如果遇到错误，请阅读错误并尝试自己解决  \n",
    "执行以下代码不报错\n",
    "``` python\n",
    "import numpy as np\n",
    "import matplotlib \n",
    "import sklearn\n",
    "```"
   ]
  },
  {
   "cell_type": "code",
   "execution_count": null,
   "metadata": {},
   "outputs": [],
   "source": [
    "import numpy as np"
   ]
  },
  {
   "cell_type": "code",
   "execution_count": null,
   "metadata": {},
   "outputs": [],
   "source": [
    "import matplotlib"
   ]
  },
  {
   "cell_type": "code",
   "execution_count": null,
   "metadata": {},
   "outputs": [],
   "source": [
    "import sklearn"
   ]
  },
  {
   "cell_type": "markdown",
   "metadata": {},
   "source": [
    "### 4. 打乱数据集  \n",
    "同时打乱 x,y，保证数据和标签的对应关系\n",
    "``` python\n",
    "x = ['快递太慢了！','不好吃','特别难吃','要齁死我了','很划算','下次还来','味道很不错！','香']\n",
    "y = ['差评','差评','差评','差评','好评','好评','好评','好评']\n",
    "```"
   ]
  },
  {
   "cell_type": "code",
   "execution_count": null,
   "metadata": {},
   "outputs": [],
   "source": [
    "from random import *\n",
    "x = ['快递太慢了！','不好吃','特别难吃','要齁死我了','很划算','下次还来','味道很不错！','香']\n",
    "y = ['差评','差评','差评','差评','好评','好评','好评','好评']\n",
    "\n",
    "def shuffle(x,y):\n",
    "    for i in range(0,len(x)-1) :\n",
    "        index = randint(0, len(x)-1-i)\n",
    "        x.append(x[index])\n",
    "        x.pop(index)\n",
    "        y.append(y[index])\n",
    "        y.pop(index)\n",
    "    return x,y\n",
    "\n",
    "shuffle(x,y)\n",
    "for i,j in zip(x,y):\n",
    "    print(i,':',j)"
   ]
  },
  {
   "cell_type": "markdown",
   "metadata": {},
   "source": [
    "### 5. 单词统计  \n",
    "使用函数，统计每个单词的出现次数，返回字典(查阅资料导入已完成此功能的包)\n",
    "``` python\n",
    "text = '2019 年 十月 一日 上午 ， 庆祝 中华人民共和国 成立 70 周年 阅兵式 在 首都北京 盛大举行 ， 59 个 阅兵 方阵 ， 580 台受 阅 装备 ， 1.5 万人 的 参阅 队伍 接受 了 全国 人民 的 检阅 。 阅兵 装备 方队 展示 的 武器装备 皆 为 国产 现役 主战 装备 ， 40% 为 首次 展示 。 其中 近些年来 广受 全球 关注 的 东风 41 洲际 弹道导弹 ， 巨浪 二潜射 弹道导弹 ， 东风 17 高超音速 武器 系统 终于 揭幕 亮剑 ， 以 \" 不怒 自威 \" 的 形象 向 世界 展示 中国 捍卫 和平 的 意志 与 力量 。 相较 于 其他 首度 公开 亮相 的 武器装备 ， 这 三款 武器 多年 来 传闻 不断 ， 备受 关注 ， 并 因 其 \" 大国 基石 \" 的 地位 而 被 公众 赋予 特殊 的 期待 ， 这 三款 武器装备 实力 究竟 如何 ， 又 各自 承担 着 怎样 的 历史 \" 使命 \" 呢 ？ 本报 特约 相关 领域 军事 专家 ， 为 大家 详细 解读 这 三款 彰显 国威 ， 震撼 世界 的 国 之 重器 。'\n",
    "```"
   ]
  },
  {
   "cell_type": "code",
   "execution_count": null,
   "metadata": {},
   "outputs": [],
   "source": [
    "from collections import Counter\n",
    "def count_words(text):\n",
    "    return Counter(text.split())\n",
    "\n",
    "text = '2019 年 十月 一日 上午 ， 庆祝 中华人民共和国 成立 70 周年 阅兵式 在 首都北京 盛大举行 ， 59 个 阅兵 方阵 ， 580 台受 阅 装备 ， 1.5 万人 的 参阅 队伍 接受 了 全国 人民 的 检阅 。 阅兵 装备 方队 展示 的 武器装备 皆 为 国产 现役 主战 装备 ， 40% 为 首次 展示 。 其中 近些年来 广受 全球 关注 的 东风 41 洲际 弹道导弹 ， 巨浪 二潜射 弹道导弹 ， 东风 17 高超音速 武器 系统 终于 揭幕 亮剑 ， 以 \" 不怒 自威 \" 的 形象 向 世界 展示 中国 捍卫 和平 的 意志 与 力量 。 相较 于 其他 首度 公开 亮相 的 武器装备 ， 这 三款 武器 多年 来 传闻 不断 ， 备受 关注 ， 并 因 其 \" 大国 基石 \" 的 地位 而 被 公众 赋予 特殊 的 期待 ， 这 三款 武器装备 实力 究竟 如何 ， 又 各自 承担 着 怎样 的 历史 \" 使命 \" 呢 ？ 本报 特约 相关 领域 军事 专家 ， 为 大家 详细 解读 这 三款 彰显 国威 ， 震撼 世界 的 国 之 重器 。'\n",
    "print(count_words(text))"
   ]
  },
  {
   "cell_type": "markdown",
   "metadata": {},
   "source": [
    "各位同学，我们已经学会了如何导包及安装包。  \n",
    "这个是后期AI课程的基础，大家一定要加油呀~\n",
    "![image alt <](http://5b0988e595225.cdn.sohucs.com/images/20190420/1d1070881fd540db817b2a3bdd967f37.gif)"
   ]
  }
 ],
 "metadata": {
  "kernelspec": {
   "display_name": "Python 3",
   "language": "python",
   "name": "python3"
  },
  "language_info": {
   "codemirror_mode": {
    "name": "ipython",
    "version": 3
   },
   "file_extension": ".py",
   "mimetype": "text/x-python",
   "name": "python",
   "nbconvert_exporter": "python",
   "pygments_lexer": "ipython3",
   "version": "3.7.4"
  }
 },
 "nbformat": 4,
 "nbformat_minor": 4
}
